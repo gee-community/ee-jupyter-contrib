{
 "cells": [
  {
   "cell_type": "code",
   "execution_count": 1,
   "metadata": {
    "collapsed": true
   },
   "outputs": [],
   "source": [
    "%matplotlib inline\n",
    "\n",
    "import ee\n",
    "ee.Initialize()"
   ]
  },
  {
   "cell_type": "markdown",
   "metadata": {},
   "source": [
    "### Exporting images, map tiles, features, and videos\n",
    "\n",
    "Shows how to export assets using Google Earth Engine API."
   ]
  },
  {
   "cell_type": "code",
   "execution_count": 5,
   "metadata": {
    "collapsed": false
   },
   "outputs": [],
   "source": [
    "# prepare export parameters\n",
    "dem = ee.Image(\"JAXA/ALOS/AW3D30_V1_1\")\n",
    "region = ee.Geometry.LineString([[93.11668395996094, 28.709710285906034], [93.1486988067627, 28.673946616818256]]).bounds()"
   ]
  },
  {
   "cell_type": "code",
   "execution_count": 30,
   "metadata": {
    "collapsed": false
   },
   "outputs": [
    {
     "name": "stdout",
     "output_type": "stream",
     "text": [
      "RPZYAKKYWM4HCWQR7E6ILJTM\n"
     ]
    }
   ],
   "source": [
    "# schedule a new export image task\n",
    "file_name = 'dem'\n",
    "export_region = region.getInfo()['coordinates'] # BUG: it should just accept region as-is\n",
    "task = ee.batch.Export.image.toDrive(dem, description=file_name, fileNamePrefix=file_name, region=export_region, scale=30)\n",
    "task.start()\n",
    "\n",
    "# remember task id and use it to check tasks status later\n",
    "task_id = task.id\n",
    "print(task_id)"
   ]
  },
  {
   "cell_type": "code",
   "execution_count": 31,
   "metadata": {
    "collapsed": false
   },
   "outputs": [
    {
     "data": {
      "text/plain": [
       "{'creation_timestamp_ms': 1516292370542,\n",
       " 'description': 'dem',\n",
       " 'id': 'RPZYAKKYWM4HCWQR7E6ILJTM',\n",
       " 'state': 'READY',\n",
       " 'task_type': 'EXPORT_IMAGE',\n",
       " 'update_timestamp_ms': 1516292370542}"
      ]
     },
     "execution_count": 31,
     "metadata": {},
     "output_type": "execute_result"
    }
   ],
   "source": [
    "# create a new task using id\n",
    "task = ee.batch.Task(task_id)\n",
    "\n",
    "# query task status\n",
    "task.status()"
   ]
  },
  {
   "cell_type": "markdown",
   "metadata": {},
   "source": [
    "Tasks state can be one of: \n",
    "\n",
    "* __READY__\n",
    "* __RUNNING__\n",
    "* __COMPLETED__\n",
    "* __CANCELLED__\n",
    "* __CANCEL_REQUESTED__\n",
    "* __FAILED__\n",
    "\n",
    "TODO: embed state diagram here"
   ]
  },
  {
   "cell_type": "code",
   "execution_count": 36,
   "metadata": {
    "collapsed": false
   },
   "outputs": [
    {
     "name": "stdout",
     "output_type": "stream",
     "text": [
      "194\n",
      "<Task EXPORT_IMAGE: dem (READY)>\n"
     ]
    }
   ],
   "source": [
    "# query current user tasks\n",
    "tasks = ee.batch.Task.list()\n",
    "\n",
    "print(len(tasks))\n",
    "print(tasks[0])"
   ]
  },
  {
   "cell_type": "code",
   "execution_count": 35,
   "metadata": {
    "collapsed": false
   },
   "outputs": [
    {
     "data": {
      "text/plain": [
       "[<Task EXPORT_IMAGE: dem (READY)>,\n",
       " <Task EXPORT_VIDEO: inspection-uk-bad (READY)>,\n",
       " <Task EXPORT_VIDEO: inspection-all-uk-bad (READY)>,\n",
       " <Task EXPORT_IMAGE: asset-NDWI-5254-v9 (RUNNING)>,\n",
       " <Task EXPORT_IMAGE: asset-NDWI-5182-v9 (RUNNING)>,\n",
       " <Task EXPORT_IMAGE: asset-NDWI-5110-v9 (RUNNING)>,\n",
       " <Task EXPORT_IMAGE: asset-NDWI-5038-v9 (RUNNING)>,\n",
       " <Task EXPORT_IMAGE: asset-NDWI-4966-v9 (RUNNING)>,\n",
       " <Task EXPORT_IMAGE: asset-NDWI-4894-v9 (RUNNING)>,\n",
       " <Task EXPORT_IMAGE: asset-NDWI-4750-v9 (RUNNING)>,\n",
       " <Task EXPORT_IMAGE: asset-NDWI-4677-v9 (RUNNING)>,\n",
       " <Task EXPORT_IMAGE: asset-NDWI-4749-v9 (RUNNING)>,\n",
       " <Task EXPORT_IMAGE: asset-NDWI-4821-v9 (RUNNING)>,\n",
       " <Task EXPORT_IMAGE: asset-NDWI-4965-v9 (RUNNING)>,\n",
       " <Task EXPORT_IMAGE: asset-NDWI-5037-v9 (RUNNING)>]"
      ]
     },
     "execution_count": 35,
     "metadata": {},
     "output_type": "execute_result"
    }
   ],
   "source": [
    "# list all running tasks (slow)\n",
    "[t for t in tasks if t.status()['state'] in ['RUNNING', 'READY']]"
   ]
  },
  {
   "cell_type": "code",
   "execution_count": 46,
   "metadata": {
    "collapsed": false
   },
   "outputs": [
    {
     "data": {
      "image/png": "[encoded data removed]",
      "text/plain": [
       "<matplotlib.figure.Figure at 0x222d40bbf60>"
      ]
     },
     "metadata": {},
     "output_type": "display_data"
    }
   ],
   "source": [
    "# preview image being exported\n",
    "from utils import show\n",
    "\n",
    "image = dem.visualize(**{ 'min': 3800, 'max': 5260, 'bands': ['MED'] })\n",
    "show(image, 'export_preview.png', region=region)"
   ]
  }
 ],
 "metadata": {
  "anaconda-cloud": {},
  "kernelspec": {
   "display_name": "Python [default]",
   "language": "python",
   "name": "python3"
  },
  "language_info": {
   "codemirror_mode": {
    "name": "ipython",
    "version": 3
   },
   "file_extension": ".py",
   "mimetype": "text/x-python",
   "name": "python",
   "nbconvert_exporter": "python",
   "pygments_lexer": "ipython3",
   "version": "3.5.2"
  }
 },
 "nbformat": 4,
 "nbformat_minor": 1
}
