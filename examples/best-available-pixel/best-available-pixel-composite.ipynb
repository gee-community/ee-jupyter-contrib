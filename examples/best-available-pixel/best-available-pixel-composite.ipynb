{
 "cells": [
  {
   "cell_type": "markdown",
   "metadata": {},
   "source": [
    "# BEST AVAILABLE PIXEL COMPOSITE (BAP) *in Google Earth Engine Python API*\n",
    "based on *Pixel-Based Image Compositing for Large-Area Dense\n",
    "Time Series Applications and Science (White, 2014)*\n",
    "https://goo.gl/Fi8fCY\n",
    "\n",
    "* **Author**: Rodrigo E. Principe\n",
    "* **email**: fitoprincipe82@gmail.com\n",
    "* **GitHub**: github.com/fitoprincipe\n",
    "* **Repository GeeBap**: github.com/fitoprincipe/geebap"
   ]
  },
  {
   "cell_type": "markdown",
   "metadata": {},
   "source": [
    "## Install Packages"
   ]
  },
  {
   "cell_type": "code",
   "execution_count": null,
   "metadata": {},
   "outputs": [],
   "source": [
    "import sys\n",
    "!{sys.executable} -m pip install --upgrade geebap"
   ]
  },
  {
   "cell_type": "markdown",
   "metadata": {},
   "source": [
    "## Make imports"
   ]
  },
  {
   "cell_type": "code",
   "execution_count": 4,
   "metadata": {
    "codeCollapsed": false,
    "hiddenCell": false
   },
   "outputs": [
    {
     "name": "stdout",
     "output_type": "stream",
     "text": [
      "('version', '0.0.9')\n"
     ]
    }
   ],
   "source": [
    "# Import Earth Engine and initialize\n",
    "import ee\n",
    "ee.Initialize()\n",
    "\n",
    "# Import packages\n",
    "import geebap\n",
    "from geebap import bap, season, filters, masks, \\\n",
    "                   scores, satcol, functions\n",
    "from geetools import tools\n",
    "import pprint\n",
    "\n",
    "print('version', geebap.__version__)"
   ]
  },
  {
   "cell_type": "markdown",
   "metadata": {},
   "source": [
    "## Season\n",
    "This object holds information of the growing season (start, end and doy *best day of year*). You can make your own, or use 2 pre-made: `Growing_South` and `Growing_North`. This object does not hold any year, just day and month. For example, the pre-made `Growing_South` starts on November 15 (11-15) and ends on March 15 (03-15). But it has a method to add a year, see the example in the code:"
   ]
  },
  {
   "cell_type": "code",
   "execution_count": null,
   "metadata": {},
   "outputs": [],
   "source": [
    "a_season = season.Season.Growing_South()\n",
    "ini, end = a_season.add_year(2000)\n",
    "\n",
    "print ini, end"
   ]
  },
  {
   "cell_type": "markdown",
   "metadata": {},
   "source": [
    "Note that when the season covers two years, start date is in the previous year."
   ]
  },
  {
   "cell_type": "markdown",
   "metadata": {},
   "source": [
    "## Collections\n",
    "The main method to create a BAP uses a `ColGroup` object, that is basically a group of `Collection` objects. You can see all groups:"
   ]
  },
  {
   "cell_type": "code",
   "execution_count": null,
   "metadata": {
    "codeCollapsed": false,
    "hiddenCell": false
   },
   "outputs": [],
   "source": [
    "satcol.ColGroup.options()"
   ]
  },
  {
   "cell_type": "markdown",
   "metadata": {},
   "source": [
    "You could also make your own `ColGroup`, but you have to keep in mind that it is composed by `satcol.Collection` objects.\n",
    "As the process is made to combine pixels from all collections, `Collection` object renames the bands of each collection to match across all, resulting in the following names: BLUE, GREEN, RED, NIR, SWIR, SWIR2, ATM_OP. Also, each collection has methods ready to map a vegetation index: `ndvi`, `evi` and `nbr`. "
   ]
  },
  {
   "cell_type": "markdown",
   "metadata": {},
   "source": [
    "## Masks\n",
    "There is *(by now)* one mask you can include in the process: clouds"
   ]
  },
  {
   "cell_type": "code",
   "execution_count": 7,
   "metadata": {
    "collapsed": true
   },
   "outputs": [],
   "source": [
    "cld_mask = masks.Clouds()"
   ]
  },
  {
   "cell_type": "markdown",
   "metadata": {},
   "source": [
    "## Filters\n",
    "There are *(by now)* two filters you can use in the process:\n",
    "\n",
    "**cloud percentage**: `filters.CloudsPercent`\n",
    "\n",
    "**masked pixel percentage**: `filters.MaskPercent`. This filter can be used **only** if maskpercent score is included in the process."
   ]
  },
  {
   "cell_type": "code",
   "execution_count": 8,
   "metadata": {
    "collapsed": true
   },
   "outputs": [],
   "source": [
    "filt_cld = filters.CloudsPercent()\n",
    "filt_mask = filters.MaskPercent()"
   ]
  },
  {
   "cell_type": "markdown",
   "metadata": {},
   "source": [
    "## Scores\n",
    "This is what makes the difference. Every score has its own parameters, but all share two main params:\n",
    "\n",
    "**range_out**: the range of values the score will be, by default it is (0, 1)\n",
    "\n",
    "**sleep**: as the creaton of a BAP composite is a 'concatenated' process, it can make more requests that are allowed, so if you set this parameter, the process will wait those seconds until the next computing."
   ]
  },
  {
   "cell_type": "markdown",
   "metadata": {},
   "source": [
    "## White's scores"
   ]
  },
  {
   "cell_type": "markdown",
   "metadata": {},
   "source": [
    "### DOY (best day of the year)\n",
    "Basically, pixels from images closer to that date will have higher score\n",
    "It takes 2 params:\n",
    "\n",
    "**season**: You can use the same as the one for the process, or not. Each `Season` object has its own *doy*. By default it is `Season.Growing_South`\n",
    "\n",
    "**formula**: distribution ecuation. There are two (by now) options: `Normal` (https://en.wikipedia.org/wiki/Normal_distribution) or `Exponential` (https://en.wikipedia.org/wiki/Exponential_distribution). Default is `Normal`"
   ]
  },
  {
   "cell_type": "code",
   "execution_count": 9,
   "metadata": {
    "collapsed": true
   },
   "outputs": [],
   "source": [
    "doy = scores.Doy()"
   ]
  },
  {
   "cell_type": "markdown",
   "metadata": {},
   "source": [
    "### Satellite\n",
    "It uses a list of available satellite for each year that you can check:"
   ]
  },
  {
   "cell_type": "code",
   "execution_count": null,
   "metadata": {},
   "outputs": [],
   "source": [
    "# List of satellites for 2000\n",
    "season.SeasonPriority.relation[2000]"
   ]
  },
  {
   "cell_type": "markdown",
   "metadata": {},
   "source": [
    "the score has one main param:\n",
    "\n",
    "**rate**: how much score will decrease for each satellite. For example, for 2000, if rate is 0.05 (default value):\n",
    "\n",
    "* 'LANDSAT/LE07/C01/T1_SR' --> 1\n",
    "* 'LANDSAT/LE7_L1T_TOA_FMASK' --> 0.95\n",
    "* 'LANDSAT/LT05/C01/T1_SR' --> 0.90\n",
    "* 'LANDSAT/LT5_L1T_TOA_FMASK' --> 0.85\n",
    "\n",
    "*NOTE: may be the correct name would be 'ratio', so I may change it in the future*"
   ]
  },
  {
   "cell_type": "code",
   "execution_count": 11,
   "metadata": {
    "collapsed": true
   },
   "outputs": [],
   "source": [
    "sat = scores.Satellite()"
   ]
  },
  {
   "cell_type": "markdown",
   "metadata": {},
   "source": [
    "### Atmospheric Opacity\n",
    "It uses the atmospheric opacity band computed by Surface Reflectance, so only SR collections will have this score. If the process uses a non-SR collection, like TOA, the this score will be zero."
   ]
  },
  {
   "cell_type": "code",
   "execution_count": 12,
   "metadata": {
    "collapsed": true
   },
   "outputs": [],
   "source": [
    "atm_op = scores.AtmosOpacity()"
   ]
  },
  {
   "cell_type": "markdown",
   "metadata": {},
   "source": [
    "## Distance to mask\n",
    "This assigns a score regarding the distance of the pixel to the closest masked pixel. As the only mask is for clouds, it could be considered 'distance to cloud'. It has 3 main params:\n",
    "\n",
    "**unit**: unit to measure distance. Defaults to 'meters'\n",
    "\n",
    "**dmax**: max distance. Pixel further than this distance will have score 1. Defaults to 600\n",
    "\n",
    "**dmin**: min distance. Defaults to 0 (next pixel from the maks will have score 0)."
   ]
  },
  {
   "cell_type": "code",
   "execution_count": 13,
   "metadata": {
    "collapsed": true
   },
   "outputs": [],
   "source": [
    "dist = scores.CloudDist()"
   ]
  },
  {
   "cell_type": "markdown",
   "metadata": {},
   "source": [
    "## Custom Scores *(not White's)*"
   ]
  },
  {
   "cell_type": "markdown",
   "metadata": {},
   "source": [
    "### Outliers\n",
    "It computes an statistics over the whole collection (in the season) and assigns score regarding the *distance* of each pixel value to that statistic. It has 3 main parameters:\n",
    "\n",
    "**bands**: a list of bands to include in the process. The process splits the score in the number of given bands. For example, if 4 bands are given, the max score for each band will be 0.25\n",
    "\n",
    "**process**: one of 'mean' or 'median'. Defaults to 'mean'\n",
    "\n",
    "**dist**: distance from 'mean' or 'median'. Defaults to 0.7\n",
    "\n",
    "*NOTE: bands must be in the image, so if you use a vegetation index, be sure to include it in the process*"
   ]
  },
  {
   "cell_type": "code",
   "execution_count": 14,
   "metadata": {
    "collapsed": true
   },
   "outputs": [],
   "source": [
    "out = scores.Outliers((\"ndvi\",))"
   ]
  },
  {
   "cell_type": "markdown",
   "metadata": {},
   "source": [
    "### Mask percentage\n",
    "It computes the precentage of masked pixels in the image (not the whole scene). It has one main parameter:\n",
    "\n",
    "**band**: the band that holds the mask."
   ]
  },
  {
   "cell_type": "code",
   "execution_count": 15,
   "metadata": {
    "collapsed": true
   },
   "outputs": [],
   "source": [
    "maskper = scores.MaskPercent()"
   ]
  },
  {
   "cell_type": "markdown",
   "metadata": {},
   "source": [
    "### Vegetation Index\n",
    "This scores is based on the absolute value of the given index, parametrized to `range_out`. The only parameter is **index**: the name of it (*ndvi*, *evi* or *nbr*). Defaults to *ndvi*."
   ]
  },
  {
   "cell_type": "code",
   "execution_count": 16,
   "metadata": {
    "collapsed": true
   },
   "outputs": [],
   "source": [
    "ind = scores.Index(\"ndvi\")"
   ]
  },
  {
   "cell_type": "markdown",
   "metadata": {},
   "source": [
    "### Multiple years (seasons)\n",
    "If you want to use images from a range of seasons, and not just only one, this scores prioritizes the main season. Take in count that a season may hold 2 years, but the main is the least (see `Season`). It has 3 main params:\n",
    "\n",
    "**main_year**: this is the central year. Images from this year (season) will have score 1\n",
    "\n",
    "**season**: a `Season` object.\n",
    "\n",
    "**ratio**: amount of score that will decrease as it goes further to the main year. Defaults to 0.05. It is similar to *rate* parameter in `Satellite`.\n",
    "\n"
   ]
  },
  {
   "cell_type": "code",
   "execution_count": 17,
   "metadata": {
    "collapsed": true
   },
   "outputs": [],
   "source": [
    "# Will not use it in the test\n",
    "# multi = scores.MultiYear()"
   ]
  },
  {
   "cell_type": "markdown",
   "metadata": {},
   "source": [
    "## Making the composite (BAP)\n",
    "Next step is to create a `Bap` object. It has the following parameters:\n",
    "\n",
    "**year**: The main year. Remember that a season can have 2 years.\n",
    "\n",
    "**range**: for multiyear composites you can specify a 'range' as a tuple: (years before, years after). Defaults to (0, 0).\n",
    "For example, if `range=(1, 1)` and `year=2000`, will compute 1999, 2000 and 2001.\n",
    "\n",
    "**colgroup**: `ColGroup` object. If `None` it will use the list computed by `SeasonPriority`. Defaults to `None`.\n",
    "\n",
    "**season**: a `Season` object\n",
    "\n",
    "**scores**: a list of `Score` objects\n",
    "\n",
    "**masks**: a list of `Mask` objects\n",
    "\n",
    "**filters**: a list of `Filter` objects\n",
    "\n",
    "**fmap**: custom function to apply before computing scores. At this point bands have new names (NIR, SWIR, etc) and vegetation index is computed."
   ]
  },
  {
   "cell_type": "code",
   "execution_count": 18,
   "metadata": {},
   "outputs": [],
   "source": [
    "bap = bap.Bap(year=2010, range=(0, 0),\n",
    "              season=a_season,\n",
    "              masks=(cld_mask,),\n",
    "              scores=(doy, sat, atm_op, dist, out, maskper, ind),\n",
    "              filters=(filt_cld, filt_mask))"
   ]
  },
  {
   "cell_type": "markdown",
   "metadata": {},
   "source": [
    "## Define a site"
   ]
  },
  {
   "cell_type": "code",
   "execution_count": 19,
   "metadata": {
    "collapsed": true
   },
   "outputs": [],
   "source": [
    "site = ee.Geometry.Polygon([[-71,-42],\n",
    "                            [-71,-43],\n",
    "                            [-72,-43],\n",
    "                            [-72,-42]])"
   ]
  },
  {
   "cell_type": "markdown",
   "metadata": {},
   "source": [
    "## Finally, compute the composite\n",
    "`Bap` object has a method named `bestpixel` that creates one image out of the pixels with higher score in the collection (which includes all collections given). It has the following parameters:\n",
    "\n",
    "**site**: The site where the composite will be computed\n",
    "\n",
    "**indices**: a list of vegetation indices. Defaults to `None`\n",
    "\n",
    "**name**: name for the band that holds the final score. Defaults to *score*\n",
    "\n",
    "**bands**: a list of bands that will be on the image (in case you don't need all). Defaults to `None` which means *include all bands*\n",
    "\n",
    "**normalize**: normalize the final score to be between 0 and 1. Defaults to `True`\n",
    "\n",
    "**bbox**: distance of the buffer around the site. Defaults to 0.\n",
    "\n",
    "**force**: if there are no images for the specified parameters, and this is set to `True`, an empty image will be created. Defaults to `True`\n",
    "\n",
    "This method return a `namedtuple`, so `.image` will be the composite and `.col` will be the collection"
   ]
  },
  {
   "cell_type": "code",
   "execution_count": null,
   "metadata": {},
   "outputs": [],
   "source": [
    "composite = bap.bestpixel(site=site, indices=(\"ndvi\",))"
   ]
  },
  {
   "cell_type": "markdown",
   "metadata": {},
   "source": [
    "### Get the composite from the results"
   ]
  },
  {
   "cell_type": "code",
   "execution_count": 21,
   "metadata": {
    "collapsed": true
   },
   "outputs": [],
   "source": [
    "image = composite.image"
   ]
  },
  {
   "cell_type": "markdown",
   "metadata": {},
   "source": [
    "## Watch the resulting composite\n",
    "*it may take a while..*"
   ]
  },
  {
   "cell_type": "code",
   "execution_count": 22,
   "metadata": {},
   "outputs": [
    {
     "data": {
      "text/html": [
       "<img src=\"https://earthengine.googleapis.com/api/thumb?thumbid=be605d4bde58e7f8f72c1126b2ae47c7&token=7bb5346185e68d99cf9fb39b06e06402\"/>"
      ],
      "text/plain": [
       "<IPython.core.display.Image object>"
      ]
     },
     "execution_count": 22,
     "metadata": {},
     "output_type": "execute_result"
    }
   ],
   "source": [
    "from IPython.display import Image\n",
    "url = image.getThumbUrl({'min':0, 'max':0.7, 'region':site.getInfo()['coordinates']})\n",
    "Image(url=url, format='png', embed=True)"
   ]
  },
  {
   "cell_type": "code",
   "execution_count": null,
   "metadata": {
    "collapsed": true
   },
   "outputs": [],
   "source": []
  }
 ],
 "metadata": {
  "kernelspec": {
   "display_name": "Python 2",
   "language": "python",
   "name": "python2"
  },
  "language_info": {
   "codemirror_mode": {
    "name": "ipython",
    "version": 2
   },
   "file_extension": ".py",
   "mimetype": "text/x-python",
   "name": "python",
   "nbconvert_exporter": "python",
   "pygments_lexer": "ipython2",
   "version": "2.7.14"
  }
 },
 "nbformat": 4,
 "nbformat_minor": 2
}
